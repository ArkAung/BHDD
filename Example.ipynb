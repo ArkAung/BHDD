{
 "cells": [
  {
   "cell_type": "code",
   "execution_count": 1,
   "metadata": {},
   "outputs": [
    {
     "name": "stdout",
     "output_type": "stream",
     "text": [
      "Train Size: 60000\n",
      "Test Size: 27561\n"
     ]
    }
   ],
   "source": [
    "import pickle\n",
    "import numpy as np\n",
    "\n",
    "dataset = []\n",
    "\n",
    "with open(\"data.pkl\",\"rb\") as file:\n",
    "    dataset = pickle.load(file)\n",
    "            \n",
    "trainDataset = dataset[\"trainDataset\"]\n",
    "testDataset = dataset[\"testDataset\"]\n",
    "\n",
    "print(f\"Train Size: {len(trainDataset)}\\n\"\n",
    "      f\"Test Size: {len(testDataset)}\")"
   ]
  },
  {
   "cell_type": "code",
   "execution_count": 2,
   "metadata": {},
   "outputs": [],
   "source": [
    "numberOfClass = 10\n",
    "\n",
    "trainX = [list(td[\"image\"].flatten() / 255) for td in trainDataset]\n",
    "trainY = np.eye(numberOfClass)[np.array([td[\"label\"] for td in trainDataset]).reshape(-1)].tolist()\n",
    "testX = [list(td[\"image\"].flatten() / 255) for td in testDataset]\n",
    "testY = [td[\"label\"] for td in testDataset]"
   ]
  },
  {
   "cell_type": "code",
   "execution_count": 3,
   "metadata": {},
   "outputs": [
    {
     "name": "stdout",
     "output_type": "stream",
     "text": [
      "TrainImageShape:(60000, 784) TrainLabelShape:(60000, 10) TestImageShape:(27561, 784) TestLabelShape:(27561,)\n"
     ]
    }
   ],
   "source": [
    "print(\"TrainImageShape:\" + str(np.shape(trainX)),\n",
    "     \"TrainLabelShape:\" + str(np.shape(trainY)),\n",
    "     \"TestImageShape:\" + str(np.shape(testX)),\n",
    "     \"TestLabelShape:\" + str(np.shape(testY)))"
   ]
  },
  {
   "cell_type": "code",
   "execution_count": null,
   "metadata": {},
   "outputs": [],
   "source": []
  }
 ],
 "metadata": {
  "kernelspec": {
   "display_name": "Python 3",
   "language": "python",
   "name": "python3"
  },
  "language_info": {
   "codemirror_mode": {
    "name": "ipython",
    "version": 3
   },
   "file_extension": ".py",
   "mimetype": "text/x-python",
   "name": "python",
   "nbconvert_exporter": "python",
   "pygments_lexer": "ipython3",
   "version": "3.6.7"
  }
 },
 "nbformat": 4,
 "nbformat_minor": 2
}
